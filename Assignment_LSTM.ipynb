{
  "nbformat": 4,
  "nbformat_minor": 0,
  "metadata": {
    "colab": {
      "provenance": [],
      "gpuType": "T4"
    },
    "kernelspec": {
      "name": "python3",
      "display_name": "Python 3"
    },
    "language_info": {
      "name": "python"
    },
    "accelerator": "GPU"
  },
  "cells": [
    {
      "cell_type": "code",
      "execution_count": 3,
      "metadata": {
        "colab": {
          "base_uri": "https://localhost:8080/"
        },
        "id": "7TSKfZwXRHpA",
        "outputId": "25b1960e-af43-41f3-954e-81aa6aa630b9"
      },
      "outputs": [
        {
          "output_type": "stream",
          "name": "stdout",
          "text": [
            "Requirement already satisfied: tensorflow in /usr/local/lib/python3.11/dist-packages (2.18.0)\n",
            "Requirement already satisfied: numpy in /usr/local/lib/python3.11/dist-packages (2.0.2)\n",
            "Requirement already satisfied: scikit-learn in /usr/local/lib/python3.11/dist-packages (1.6.1)\n",
            "Requirement already satisfied: absl-py>=1.0.0 in /usr/local/lib/python3.11/dist-packages (from tensorflow) (1.4.0)\n",
            "Requirement already satisfied: astunparse>=1.6.0 in /usr/local/lib/python3.11/dist-packages (from tensorflow) (1.6.3)\n",
            "Requirement already satisfied: flatbuffers>=24.3.25 in /usr/local/lib/python3.11/dist-packages (from tensorflow) (25.2.10)\n",
            "Requirement already satisfied: gast!=0.5.0,!=0.5.1,!=0.5.2,>=0.2.1 in /usr/local/lib/python3.11/dist-packages (from tensorflow) (0.6.0)\n",
            "Requirement already satisfied: google-pasta>=0.1.1 in /usr/local/lib/python3.11/dist-packages (from tensorflow) (0.2.0)\n",
            "Requirement already satisfied: libclang>=13.0.0 in /usr/local/lib/python3.11/dist-packages (from tensorflow) (18.1.1)\n",
            "Requirement already satisfied: opt-einsum>=2.3.2 in /usr/local/lib/python3.11/dist-packages (from tensorflow) (3.4.0)\n",
            "Requirement already satisfied: packaging in /usr/local/lib/python3.11/dist-packages (from tensorflow) (24.2)\n",
            "Requirement already satisfied: protobuf!=4.21.0,!=4.21.1,!=4.21.2,!=4.21.3,!=4.21.4,!=4.21.5,<6.0.0dev,>=3.20.3 in /usr/local/lib/python3.11/dist-packages (from tensorflow) (5.29.5)\n",
            "Requirement already satisfied: requests<3,>=2.21.0 in /usr/local/lib/python3.11/dist-packages (from tensorflow) (2.32.3)\n",
            "Requirement already satisfied: setuptools in /usr/local/lib/python3.11/dist-packages (from tensorflow) (75.2.0)\n",
            "Requirement already satisfied: six>=1.12.0 in /usr/local/lib/python3.11/dist-packages (from tensorflow) (1.17.0)\n",
            "Requirement already satisfied: termcolor>=1.1.0 in /usr/local/lib/python3.11/dist-packages (from tensorflow) (3.1.0)\n",
            "Requirement already satisfied: typing-extensions>=3.6.6 in /usr/local/lib/python3.11/dist-packages (from tensorflow) (4.14.0)\n",
            "Requirement already satisfied: wrapt>=1.11.0 in /usr/local/lib/python3.11/dist-packages (from tensorflow) (1.17.2)\n",
            "Requirement already satisfied: grpcio<2.0,>=1.24.3 in /usr/local/lib/python3.11/dist-packages (from tensorflow) (1.72.1)\n",
            "Requirement already satisfied: tensorboard<2.19,>=2.18 in /usr/local/lib/python3.11/dist-packages (from tensorflow) (2.18.0)\n",
            "Requirement already satisfied: keras>=3.5.0 in /usr/local/lib/python3.11/dist-packages (from tensorflow) (3.8.0)\n",
            "Requirement already satisfied: h5py>=3.11.0 in /usr/local/lib/python3.11/dist-packages (from tensorflow) (3.13.0)\n",
            "Requirement already satisfied: ml-dtypes<0.5.0,>=0.4.0 in /usr/local/lib/python3.11/dist-packages (from tensorflow) (0.4.1)\n",
            "Requirement already satisfied: tensorflow-io-gcs-filesystem>=0.23.1 in /usr/local/lib/python3.11/dist-packages (from tensorflow) (0.37.1)\n",
            "Requirement already satisfied: scipy>=1.6.0 in /usr/local/lib/python3.11/dist-packages (from scikit-learn) (1.15.3)\n",
            "Requirement already satisfied: joblib>=1.2.0 in /usr/local/lib/python3.11/dist-packages (from scikit-learn) (1.5.1)\n",
            "Requirement already satisfied: threadpoolctl>=3.1.0 in /usr/local/lib/python3.11/dist-packages (from scikit-learn) (3.6.0)\n",
            "Requirement already satisfied: wheel<1.0,>=0.23.0 in /usr/local/lib/python3.11/dist-packages (from astunparse>=1.6.0->tensorflow) (0.45.1)\n",
            "Requirement already satisfied: rich in /usr/local/lib/python3.11/dist-packages (from keras>=3.5.0->tensorflow) (13.9.4)\n",
            "Requirement already satisfied: namex in /usr/local/lib/python3.11/dist-packages (from keras>=3.5.0->tensorflow) (0.1.0)\n",
            "Requirement already satisfied: optree in /usr/local/lib/python3.11/dist-packages (from keras>=3.5.0->tensorflow) (0.16.0)\n",
            "Requirement already satisfied: charset-normalizer<4,>=2 in /usr/local/lib/python3.11/dist-packages (from requests<3,>=2.21.0->tensorflow) (3.4.2)\n",
            "Requirement already satisfied: idna<4,>=2.5 in /usr/local/lib/python3.11/dist-packages (from requests<3,>=2.21.0->tensorflow) (3.10)\n",
            "Requirement already satisfied: urllib3<3,>=1.21.1 in /usr/local/lib/python3.11/dist-packages (from requests<3,>=2.21.0->tensorflow) (2.4.0)\n",
            "Requirement already satisfied: certifi>=2017.4.17 in /usr/local/lib/python3.11/dist-packages (from requests<3,>=2.21.0->tensorflow) (2025.4.26)\n",
            "Requirement already satisfied: markdown>=2.6.8 in /usr/local/lib/python3.11/dist-packages (from tensorboard<2.19,>=2.18->tensorflow) (3.8)\n",
            "Requirement already satisfied: tensorboard-data-server<0.8.0,>=0.7.0 in /usr/local/lib/python3.11/dist-packages (from tensorboard<2.19,>=2.18->tensorflow) (0.7.2)\n",
            "Requirement already satisfied: werkzeug>=1.0.1 in /usr/local/lib/python3.11/dist-packages (from tensorboard<2.19,>=2.18->tensorflow) (3.1.3)\n",
            "Requirement already satisfied: MarkupSafe>=2.1.1 in /usr/local/lib/python3.11/dist-packages (from werkzeug>=1.0.1->tensorboard<2.19,>=2.18->tensorflow) (3.0.2)\n",
            "Requirement already satisfied: markdown-it-py>=2.2.0 in /usr/local/lib/python3.11/dist-packages (from rich->keras>=3.5.0->tensorflow) (3.0.0)\n",
            "Requirement already satisfied: pygments<3.0.0,>=2.13.0 in /usr/local/lib/python3.11/dist-packages (from rich->keras>=3.5.0->tensorflow) (2.19.1)\n",
            "Requirement already satisfied: mdurl~=0.1 in /usr/local/lib/python3.11/dist-packages (from markdown-it-py>=2.2.0->rich->keras>=3.5.0->tensorflow) (0.1.2)\n"
          ]
        }
      ],
      "source": [
        "from IPython import get_ipython\n",
        "from IPython.display import display\n",
        "# Import libraries for data processing, modeling, and visualization\n",
        "import numpy as np\n",
        "import tensorflow as tf\n",
        "from tensorflow.keras.preprocessing.text import Tokenizer\n",
        "from tensorflow.keras.preprocessing.sequence import pad_sequences\n",
        "from tensorflow.keras.models import Sequential\n",
        "from tensorflow.keras.layers import Embedding, LSTM, Dense, Dropout\n",
        "from tensorflow.keras.callbacks import EarlyStopping, ReduceLROnPlateau\n",
        "import matplotlib.pyplot as plt\n",
        "from tensorflow.keras.utils import Sequence # Import the Sequence class\n",
        "\n",
        "\n",
        "!pip install tensorflow numpy scikit-learn\n"
      ]
    },
    {
      "cell_type": "code",
      "source": [
        "# Limit GPU memory growth to prevent fragmentation\n",
        "physical_devices = tf.config.list_physical_devices('GPU')\n",
        "if physical_devices:\n",
        "    tf.config.experimental.set_memory_growth(physical_devices[0], True)"
      ],
      "metadata": {
        "id": "CNcONtjjYaKD"
      },
      "execution_count": 4,
      "outputs": []
    },
    {
      "cell_type": "code",
      "source": [
        "# Read the dataset from a text file\n",
        "with open('/content/sample_data/LSTM DATA.txt', 'r', encoding='utf-8') as file:\n",
        "    text = file.read()"
      ],
      "metadata": {
        "id": "e9sj1u7BRRvZ"
      },
      "execution_count": 5,
      "outputs": []
    },
    {
      "cell_type": "code",
      "source": [
        "# Convert text to lowercase for consistency\n",
        "text = text.lower()"
      ],
      "metadata": {
        "id": "3z_ndCzwRvgm"
      },
      "execution_count": 6,
      "outputs": []
    },
    {
      "cell_type": "code",
      "source": [
        "# Tokenize the text into words with limited vocabulary\n",
        "max_words = 10000  # Limit vocabulary size to reduce memory\n",
        "tokenizer = Tokenizer(num_words=max_words)\n",
        "tokenizer.fit_on_texts([text])\n",
        "total_words = min(len(tokenizer.word_index) + 1, max_words)"
      ],
      "metadata": {
        "id": "MkbvDhZORyL-"
      },
      "execution_count": 7,
      "outputs": []
    },
    {
      "cell_type": "code",
      "source": [
        "# Create a data generator to handle sequences efficiently\n",
        "class SequenceGenerator(Sequence):\n",
        "    # Initialize generator with text, tokenizer, and parameters\n",
        "    def __init__(self, text, tokenizer, max_sequence_len, batch_size):\n",
        "        self.text = text\n",
        "        self.tokenizer = tokenizer\n",
        "        self.max_sequence_len = max_sequence_len\n",
        "        self.batch_size = batch_size\n",
        "        self.lines = [line for line in text.split('\\n') if line.strip()]\n",
        "        self.indices = []\n",
        "        for line_idx, line in enumerate(self.lines):\n",
        "            token_list = tokenizer.texts_to_sequences([line])[0]\n",
        "            for i in range(1, len(token_list)):\n",
        "                # This condition 'self.indices is None' will always be false\n",
        "                # since self.indices is initialized as an empty list [].\n",
        "                # The condition should be removed or corrected based on intent.\n",
        "                # Assuming the intent is to append all valid indices:\n",
        "                self.indices.append((line_idx, i))\n",
        "\n",
        "    # Return number of batches\n",
        "    def __len__(self):\n",
        "        return len(self.indices) // self.batch_size\n",
        "\n",
        "        # Generate a batch of data\n",
        "    def __getitem__(self, index):\n",
        "        # Use the correct variable name for slicing: index instead of i\n",
        "        batch_indices = self.indices[index * self.batch_size:(index+1) * self.batch_size]\n",
        "        X = []\n",
        "        y = []\n",
        "        for line_idx, seq_idx in batch_indices:\n",
        "            token_list = self.tokenizer.texts_to_sequences([self.lines[line_idx]])[0]\n",
        "            n_gram_sequence = token_list[max(0, seq_idx-self.max_sequence_len):seq_idx]\n",
        "            X.append(pad_sequences([n_gram_sequence], maxlen=self.max_sequence_len, padding='pre')[0])\n",
        "            y.append(token_list[seq_idx])\n",
        "        X = np.array(X)\n",
        "        y = tf.keras.utils.to_categorical(y, num_classes=total_words)\n",
        "        return X, y"
      ],
      "metadata": {
        "id": "wCiIpDoSYn4H"
      },
      "execution_count": 14,
      "outputs": []
    },
    {
      "cell_type": "code",
      "source": [
        "# Set parameters for reduced memory usage\n",
        "max_sequence_len = 20  # Reduced sequence length\n",
        "batch_size = 32       # Reduced batch size\n",
        "train_generator = SequenceGenerator(text, tokenizer, max_sequence_len, batch_size)\n",
        "val_generator = SequenceGenerator(text, tokenizer, max_sequence_len, batch_size)"
      ],
      "metadata": {
        "id": "JnisUHmcYrs7"
      },
      "execution_count": 15,
      "outputs": []
    },
    {
      "cell_type": "code",
      "source": [
        "from tensorflow.keras.layers import Attention, Flatten, GlobalAveragePooling1D\n",
        "\n",
        "# Define a smaller LSTM model architecture\n",
        "model = Sequential([\n",
        "    # Convert word indices to dense vectors\n",
        "    Embedding(total_words, 64, input_length=max_sequence_len),  # Single LSTM layer to reduce memory\n",
        "    LSTM(64, return_sequences=True),\n",
        "    # Use GlobalAveragePooling1D to pool the sequence dimension\n",
        "    # This outputs a tensor of shape (batch_size, units) which\n",
        "    # is suitable for the Dense layer after Dropout.\n",
        "    GlobalAveragePooling1D(),\n",
        "    # Dropout to prevent overfitting\n",
        "    Dropout(0.3),\n",
        "    # Dense layer with softmax for word prediction\n",
        "    Dense(total_words, activation='softmax')\n",
        "])\n"
      ],
      "metadata": {
        "id": "8-VBrViGYzOa"
      },
      "execution_count": 21,
      "outputs": []
    },
    {
      "cell_type": "code",
      "source": [
        "# Compile the model with loss function and optimizer\n",
        "model.compile(\n",
        "    optimizer=tf.keras.optimizers.Adam(learning_rate=0.001, clipnorm=1.0),\n",
        "    loss='categorical_crossentropy',\n",
        "    metrics=['accuracy']\n",
        ")"
      ],
      "metadata": {
        "id": "59B_vS2lY19a"
      },
      "execution_count": 22,
      "outputs": []
    },
    {
      "cell_type": "code",
      "source": [
        "# Define callbacks for early stopping and learning rate scheduling\n",
        "callbacks = [\n",
        "    EarlyStopping(monitor='val_loss', patience=5, restore_best_weights=True), # Increased patience\n",
        "    ReduceLROnPlateau(monitor='val_loss', factor=0.2, patience=3, min_lr=0.00001) # Adjusted patience\n",
        "]"
      ],
      "metadata": {
        "id": "MN0BNmGCY4YY"
      },
      "execution_count": 23,
      "outputs": []
    },
    {
      "cell_type": "code",
      "source": [
        "# Train the model using the data generator\n",
        "history = model.fit(\n",
        "    train_generator,\n",
        "    epochs=12,\n",
        "    validation_data=val_generator,\n",
        "    callbacks=callbacks\n",
        ")"
      ],
      "metadata": {
        "colab": {
          "base_uri": "https://localhost:8080/"
        },
        "id": "EiOT5A5HY7a6",
        "outputId": "253964d8-a186-4a3d-e5e7-6d6999ef3eca"
      },
      "execution_count": 46,
      "outputs": [
        {
          "output_type": "stream",
          "name": "stdout",
          "text": [
            "Epoch 1/12\n",
            "\u001b[1m3784/3784\u001b[0m \u001b[32m━━━━━━━━━━━━━━━━━━━━\u001b[0m\u001b[37m\u001b[0m \u001b[1m57s\u001b[0m 15ms/step - accuracy: 0.1420 - loss: 5.1642 - val_accuracy: 0.1639 - val_loss: 4.9853 - learning_rate: 0.0010\n",
            "Epoch 2/12\n",
            "\u001b[1m3784/3784\u001b[0m \u001b[32m━━━━━━━━━━━━━━━━━━━━\u001b[0m\u001b[37m\u001b[0m \u001b[1m56s\u001b[0m 15ms/step - accuracy: 0.1449 - loss: 5.1242 - val_accuracy: 0.1675 - val_loss: 4.9407 - learning_rate: 0.0010\n",
            "Epoch 3/12\n",
            "\u001b[1m3784/3784\u001b[0m \u001b[32m━━━━━━━━━━━━━━━━━━━━\u001b[0m\u001b[37m\u001b[0m \u001b[1m80s\u001b[0m 14ms/step - accuracy: 0.1491 - loss: 5.0792 - val_accuracy: 0.1762 - val_loss: 4.9046 - learning_rate: 0.0010\n",
            "Epoch 4/12\n",
            "\u001b[1m3784/3784\u001b[0m \u001b[32m━━━━━━━━━━━━━━━━━━━━\u001b[0m\u001b[37m\u001b[0m \u001b[1m75s\u001b[0m 20ms/step - accuracy: 0.1527 - loss: 5.0481 - val_accuracy: 0.1805 - val_loss: 4.8563 - learning_rate: 0.0010\n",
            "Epoch 5/12\n",
            "\u001b[1m3784/3784\u001b[0m \u001b[32m━━━━━━━━━━━━━━━━━━━━\u001b[0m\u001b[37m\u001b[0m \u001b[1m55s\u001b[0m 15ms/step - accuracy: 0.1571 - loss: 5.0171 - val_accuracy: 0.1858 - val_loss: 4.8233 - learning_rate: 0.0010\n",
            "Epoch 6/12\n",
            "\u001b[1m3784/3784\u001b[0m \u001b[32m━━━━━━━━━━━━━━━━━━━━\u001b[0m\u001b[37m\u001b[0m \u001b[1m56s\u001b[0m 15ms/step - accuracy: 0.1606 - loss: 4.9714 - val_accuracy: 0.1871 - val_loss: 4.7824 - learning_rate: 0.0010\n",
            "Epoch 7/12\n",
            "\u001b[1m3784/3784\u001b[0m \u001b[32m━━━━━━━━━━━━━━━━━━━━\u001b[0m\u001b[37m\u001b[0m \u001b[1m55s\u001b[0m 14ms/step - accuracy: 0.1629 - loss: 4.9468 - val_accuracy: 0.1888 - val_loss: 4.7476 - learning_rate: 0.0010\n",
            "Epoch 8/12\n",
            "\u001b[1m3784/3784\u001b[0m \u001b[32m━━━━━━━━━━━━━━━━━━━━\u001b[0m\u001b[37m\u001b[0m \u001b[1m75s\u001b[0m 20ms/step - accuracy: 0.1669 - loss: 4.9094 - val_accuracy: 0.1951 - val_loss: 4.7101 - learning_rate: 0.0010\n",
            "Epoch 9/12\n",
            "\u001b[1m3784/3784\u001b[0m \u001b[32m━━━━━━━━━━━━━━━━━━━━\u001b[0m\u001b[37m\u001b[0m \u001b[1m56s\u001b[0m 15ms/step - accuracy: 0.1688 - loss: 4.8947 - val_accuracy: 0.2015 - val_loss: 4.6832 - learning_rate: 0.0010\n",
            "Epoch 10/12\n",
            "\u001b[1m3784/3784\u001b[0m \u001b[32m━━━━━━━━━━━━━━━━━━━━\u001b[0m\u001b[37m\u001b[0m \u001b[1m55s\u001b[0m 14ms/step - accuracy: 0.1702 - loss: 4.8621 - val_accuracy: 0.2034 - val_loss: 4.6404 - learning_rate: 0.0010\n",
            "Epoch 11/12\n",
            "\u001b[1m3784/3784\u001b[0m \u001b[32m━━━━━━━━━━━━━━━━━━━━\u001b[0m\u001b[37m\u001b[0m \u001b[1m56s\u001b[0m 15ms/step - accuracy: 0.1751 - loss: 4.8254 - val_accuracy: 0.2071 - val_loss: 4.6102 - learning_rate: 0.0010\n",
            "Epoch 12/12\n",
            "\u001b[1m3784/3784\u001b[0m \u001b[32m━━━━━━━━━━━━━━━━━━━━\u001b[0m\u001b[37m\u001b[0m \u001b[1m55s\u001b[0m 14ms/step - accuracy: 0.1806 - loss: 4.7991 - val_accuracy: 0.2134 - val_loss: 4.5758 - learning_rate: 0.0010\n"
          ]
        }
      ]
    },
    {
      "cell_type": "code",
      "source": [
        "# Evaluate the model on a subset of test data\n",
        "test_generator = SequenceGenerator(text, tokenizer, max_sequence_len, batch_size)\n",
        "test_loss, test_accuracy = model.evaluate(test_generator)\n",
        "print(f\"Test Loss: {test_loss:.4f}, Test Accuracy: {test_accuracy:.4f}\")\n"
      ],
      "metadata": {
        "colab": {
          "base_uri": "https://localhost:8080/"
        },
        "id": "zG2rwz0uY-Ti",
        "outputId": "8fbafa6d-b74a-4c66-8520-65dec1b25e90"
      },
      "execution_count": 47,
      "outputs": [
        {
          "output_type": "stream",
          "name": "stdout",
          "text": [
            "\u001b[1m3784/3784\u001b[0m \u001b[32m━━━━━━━━━━━━━━━━━━━━\u001b[0m\u001b[37m\u001b[0m \u001b[1m24s\u001b[0m 6ms/step - accuracy: 0.2186 - loss: 4.5931\n",
            "Test Loss: 4.5758, Test Accuracy: 0.2134\n"
          ]
        }
      ]
    },
    {
      "cell_type": "code",
      "source": [
        "# Calculate perplexity (exp(loss)) as a language model metric\n",
        "perplexity = np.exp(test_loss)\n",
        "print(f\"Test Perplexity: {perplexity:.4f}\")"
      ],
      "metadata": {
        "colab": {
          "base_uri": "https://localhost:8080/"
        },
        "id": "SprYMYU_ZCTB",
        "outputId": "2af68403-fb88-45db-bb10-dc99ac6d326f"
      },
      "execution_count": 48,
      "outputs": [
        {
          "output_type": "stream",
          "name": "stdout",
          "text": [
            "Test Perplexity: 97.1021\n"
          ]
        }
      ]
    },
    {
      "cell_type": "code",
      "source": [
        "# Function to predict the next word for a given text\n",
        "def predict_next_word(model, tokenizer, text, max_sequence_len):\n",
        "    token_list = tokenizer.texts_to_sequences([text])[0]\n",
        "    token_list = pad_sequences([token_list[-max_sequence_len:]], maxlen=max_sequence_len, padding='pre')\n",
        "    predicted = model.predict(token_list, verbose=0)\n",
        "    predicted_word_index = np.argmax(predicted, axis=1)[0]\n",
        "    return [word for word, index in tokenizer.word_index.items() if index == predicted_word_index][0]"
      ],
      "metadata": {
        "id": "_ifZ4kvGZGvp"
      },
      "execution_count": 49,
      "outputs": []
    },
    {
      "cell_type": "code",
      "source": [
        "# Test next word prediction on a sample text\n",
        "sample_text = \"to be or not to be that is the\"\n",
        "predicted_word = predict_next_word(model, tokenizer, sample_text, max_sequence_len)\n",
        "print(f\"Sample Text: {sample_text}\")\n",
        "print(f\"Predicted Next Word: {predicted_word}\")"
      ],
      "metadata": {
        "colab": {
          "base_uri": "https://localhost:8080/"
        },
        "id": "CRIFpTkuZJmv",
        "outputId": "e94914b5-4772-471c-fc5b-c54163cccb9e"
      },
      "execution_count": 50,
      "outputs": [
        {
          "output_type": "stream",
          "name": "stdout",
          "text": [
            "Sample Text: to be or not to be that is the\n",
            "Predicted Next Word: man\n"
          ]
        }
      ]
    },
    {
      "cell_type": "code",
      "source": [
        "# Plot training and validation loss\n",
        "plt.figure(figsize=(12, 4))\n",
        "plt.subplot(1, 2, 1)\n",
        "plt.plot(history.history['loss'], label='Training Loss')\n",
        "plt.plot(history.history['val_loss'], label='Validation Loss')\n",
        "plt.title('Model Loss')\n",
        "plt.xlabel('Epoch')\n",
        "plt.ylabel('Loss')\n",
        "plt.legend()"
      ],
      "metadata": {
        "colab": {
          "base_uri": "https://localhost:8080/",
          "height": 427
        },
        "id": "75Gz8LuhZMpg",
        "outputId": "71fc3c58-b761-40e2-f8cf-c411c3e07427"
      },
      "execution_count": 51,
      "outputs": [
        {
          "output_type": "execute_result",
          "data": {
            "text/plain": [
              "<matplotlib.legend.Legend at 0x7c81737cd4d0>"
            ]
          },
          "metadata": {},
          "execution_count": 51
        },
        {
          "output_type": "display_data",
          "data": {
            "text/plain": [
              "<Figure size 1200x400 with 1 Axes>"
            ],
            "image/png": "[encoded data removed]"
          },
          "metadata": {}
        }
      ]
    },
    {
      "cell_type": "code",
      "source": [
        "# Plot training and validation accuracy\n",
        "plt.subplot(1, 2, 2)\n",
        "plt.plot(history.history['accuracy'], label='Training Accuracy')\n",
        "plt.plot(history.history['val_accuracy'], label='Validation Accuracy')\n",
        "plt.title('Model Accuracy')\n",
        "plt.xlabel('Epoch')\n",
        "plt.ylabel('Accuracy')\n",
        "plt.legend()\n",
        "plt.show()"
      ],
      "metadata": {
        "id": "94maOkb4R0uv",
        "colab": {
          "base_uri": "https://localhost:8080/",
          "height": 472
        },
        "outputId": "a017b3c2-6a16-4590-fdf6-0a96f3ac2c09"
      },
      "execution_count": 52,
      "outputs": [
        {
          "output_type": "display_data",
          "data": {
            "text/plain": [
              "<Figure size 640x480 with 1 Axes>"
            ],
            "image/png": "[encoded data removed]"
          },
          "metadata": {}
        }
      ]
    },
    {
      "cell_type": "code",
      "source": [
        "# Fine-tune the model with a lower learning rate\n",
        "model.compile(\n",
        "    optimizer=tf.keras.optimizers.Adam(learning_rate=0.0001, clipnorm=1.0),\n",
        "    loss='categorical_crossentropy',\n",
        "    metrics=['accuracy']\n",
        ")\n",
        "history_fine = model.fit(\n",
        "    train_generator,\n",
        "    epochs=5,\n",
        "    validation_data=val_generator,\n",
        "    callbacks=callbacks\n",
        ")"
      ],
      "metadata": {
        "id": "l2sHW2n0R7I4",
        "colab": {
          "base_uri": "https://localhost:8080/"
        },
        "outputId": "cfb876df-8094-44e9-fec2-0bb7059f2cda"
      },
      "execution_count": 53,
      "outputs": [
        {
          "output_type": "stream",
          "name": "stdout",
          "text": [
            "Epoch 1/5\n",
            "\u001b[1m3784/3784\u001b[0m \u001b[32m━━━━━━━━━━━━━━━━━━━━\u001b[0m\u001b[37m\u001b[0m \u001b[1m59s\u001b[0m 15ms/step - accuracy: 0.1862 - loss: 4.7329 - val_accuracy: 0.2182 - val_loss: 4.5489 - learning_rate: 1.0000e-04\n",
            "Epoch 2/5\n",
            "\u001b[1m3784/3784\u001b[0m \u001b[32m━━━━━━━━━━━━━━━━━━━━\u001b[0m\u001b[37m\u001b[0m \u001b[1m75s\u001b[0m 20ms/step - accuracy: 0.1893 - loss: 4.7084 - val_accuracy: 0.2194 - val_loss: 4.5320 - learning_rate: 1.0000e-04\n",
            "Epoch 3/5\n",
            "\u001b[1m3784/3784\u001b[0m \u001b[32m━━━━━━━━━━━━━━━━━━━━\u001b[0m\u001b[37m\u001b[0m \u001b[1m55s\u001b[0m 15ms/step - accuracy: 0.1886 - loss: 4.7049 - val_accuracy: 0.2208 - val_loss: 4.5216 - learning_rate: 1.0000e-04\n",
            "Epoch 4/5\n",
            "\u001b[1m3784/3784\u001b[0m \u001b[32m━━━━━━━━━━━━━━━━━━━━\u001b[0m\u001b[37m\u001b[0m \u001b[1m81s\u001b[0m 14ms/step - accuracy: 0.1919 - loss: 4.6893 - val_accuracy: 0.2225 - val_loss: 4.5114 - learning_rate: 1.0000e-04\n",
            "Epoch 5/5\n",
            "\u001b[1m3784/3784\u001b[0m \u001b[32m━━━━━━━━━━━━━━━━━━━━\u001b[0m\u001b[37m\u001b[0m \u001b[1m55s\u001b[0m 15ms/step - accuracy: 0.1908 - loss: 4.6888 - val_accuracy: 0.2225 - val_loss: 4.5031 - learning_rate: 1.0000e-04\n"
          ]
        }
      ]
    }
  ]
}