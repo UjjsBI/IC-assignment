{
  "nbformat": 4,
  "nbformat_minor": 0,
  "metadata": {
    "colab": {
      "provenance": [],
      "authorship_tag": "ABX9TyMol8cxUwzF4gkREM+i7+RW",
      "include_colab_link": true
    },
    "kernelspec": {
      "name": "python3",
      "display_name": "Python 3"
    },
    "language_info": {
      "name": "python"
    }
  },
  "cells": [
    {
      "cell_type": "markdown",
      "metadata": {
        "id": "view-in-github",
        "colab_type": "text"
      },
      "source": [
        "<a href=\"https://colab.research.google.com/github/UjjsBI/assignment/blob/main/DeepSeek_ollama_assignement.ipynb\" target=\"_parent\"><img src=\"https://colab.research.google.com/assets/colab-badge.svg\" alt=\"Open In Colab\"/></a>"
      ]
    },
    {
      "cell_type": "code",
      "execution_count": 27,
      "metadata": {
        "colab": {
          "base_uri": "https://localhost:8080/"
        },
        "id": "z23QLQQST3rU",
        "outputId": "cd800481-4c1b-4e35-bc0e-75db7747d031"
      },
      "outputs": [
        {
          "output_type": "stream",
          "name": "stdout",
          "text": [
            "Reading package lists... Done\n",
            "Building dependency tree... Done\n",
            "Reading state information... Done\n",
            "lshw is already the newest version (02.19.git.2021.06.19.996aaad9c7-2build1).\n",
            "0 upgraded, 0 newly installed, 0 to remove and 29 not upgraded.\n"
          ]
        }
      ],
      "source": [
        "# Install lshw module so that Ollama will be able to see that\n",
        "!sudo apt-get install lshw"
      ]
    },
    {
      "cell_type": "code",
      "source": [
        "!lshw"
      ],
      "metadata": {
        "colab": {
          "base_uri": "https://localhost:8080/"
        },
        "id": "g4YvWXRRT_vA",
        "outputId": "de5cc734-b6db-418f-eb19-4480bcea1dd4"
      },
      "execution_count": 29,
      "outputs": [
        {
          "output_type": "stream",
          "name": "stdout",
          "text": [
            "\r\rDMI\r\r   \rSMP\r\r   \rPA-RISC\r\r       \rdevice-tree\r\r           \rSPD\r\r   \rmemory\r\r      \r/proc/cpuinfo\r\r             \rCPUID\r\r     \rPCI (sysfs)\r\r           \rISA PnP\r\r       \rPnP (sysfs)\r\r           \rPCMCIA\r\r      \rPCMCIA\r\r      \rVirtual I/O (VIRTIO) devices\r\r                            \rIBM Virtual I/O (VIO)\r\r                     \rkernel device tree (sysfs)\r\r                          \rUSB\r\r   \rIDE\r\r   \rSCSI\r\r    \rNVMe\r\r    \rMMC\r\r   \rsound\r\r     \rgraphics\r\r        \rinput\r\r     \rS/390 devices\r\r             \rNetwork interfaces\r\r                  \rFramebuffer devices\r\r                   \rDisplay\r\r       \rCPUFreq\r\r       \rABI\r\r   \r\r49200273ec6d\n",
            "    description: Computer\n",
            "    width: 64 bits\n",
            "    capabilities: smp vsyscall32\n",
            "  *-core\n",
            "       description: Motherboard\n",
            "       physical id: 0\n",
            "     *-memory\n",
            "          description: System memory\n",
            "          physical id: 0\n",
            "          size: 13GiB\n",
            "     *-cpu\n",
            "          product: Intel(R) Xeon(R) CPU @ 2.20GHz\n",
            "          vendor: Intel Corp.\n",
            "          physical id: 1\n",
            "          bus info: cpu@0\n",
            "          version: 6.79.0\n",
            "          width: 64 bits\n",
            "          capabilities: fpu fpu_exception wp vme de pse tsc msr pae mce cx8 apic sep mtrr pge mca cmov pat pse36 clflush mmx fxsr sse sse2 ss ht syscall nx pdpe1gb rdtscp x86-64 constant_tsc rep_good nopl xtopology nonstop_tsc cpuid tsc_known_freq pni pclmulqdq ssse3 fma cx16 pcid sse4_1 sse4_2 x2apic movbe popcnt aes xsave avx f16c rdrand hypervisor lahf_lm abm 3dnowprefetch invpcid_single ssbd ibrs ibpb stibp fsgsbase tsc_adjust bmi1 hle avx2 smep bmi2 erms invpcid rtm rdseed adx smap xsaveopt arat md_clear arch_capabilities\n",
            "          configuration: microcode=4294967295\n",
            "     *-pci\n",
            "          description: Host bridge\n",
            "          product: 440FX - 82441FX PMC [Natoma]\n",
            "          vendor: Intel Corporation\n",
            "          physical id: 100\n",
            "          bus info: pci@0000:00:00.0\n",
            "          version: 02\n",
            "          width: 32 bits\n",
            "          clock: 33MHz\n",
            "        *-isa\n",
            "             description: ISA bridge\n",
            "             product: 82371AB/EB/MB PIIX4 ISA\n",
            "             vendor: Intel Corporation\n",
            "             physical id: 1\n",
            "             bus info: pci@0000:00:01.0\n",
            "             version: 03\n",
            "             width: 32 bits\n",
            "             clock: 33MHz\n",
            "             capabilities: isa bus_master\n",
            "             configuration: latency=0\n",
            "           *-pnp00:00\n",
            "                product: PnP device PNP0b00\n",
            "                physical id: 0\n",
            "                capabilities: pnp\n",
            "                configuration: driver=rtc_cmos\n",
            "           *-pnp00:01\n",
            "                product: PnP device PNP0303\n",
            "                physical id: 1\n",
            "                capabilities: pnp\n",
            "                configuration: driver=i8042 kbd\n",
            "           *-pnp00:02\n",
            "                product: PnP device PNP0f13\n",
            "                physical id: 2\n",
            "                capabilities: pnp\n",
            "                configuration: driver=i8042 aux\n",
            "           *-pnp00:03\n",
            "                product: PnP device PNP0501\n",
            "                physical id: 3\n",
            "                capabilities: pnp\n",
            "                configuration: driver=serial\n",
            "           *-pnp00:04\n",
            "                product: PnP device PNP0501\n",
            "                physical id: 4\n",
            "                capabilities: pnp\n",
            "                configuration: driver=serial\n",
            "           *-pnp00:05\n",
            "                product: PnP device PNP0501\n",
            "                physical id: 5\n",
            "                capabilities: pnp\n",
            "                configuration: driver=serial\n",
            "           *-pnp00:06\n",
            "                product: PnP device PNP0501\n",
            "                physical id: 6\n",
            "                capabilities: pnp\n",
            "                configuration: driver=serial\n",
            "        *-bridge UNCLAIMED\n",
            "             description: Bridge\n",
            "             product: 82371AB/EB/MB PIIX4 ACPI\n",
            "             vendor: Intel Corporation\n",
            "             physical id: 1.3\n",
            "             bus info: pci@0000:00:01.3\n",
            "             version: 03\n",
            "             width: 32 bits\n",
            "             clock: 33MHz\n",
            "             capabilities: bridge bus_master\n",
            "             configuration: latency=0\n",
            "        *-generic:0\n",
            "             description: Non-VGA unclassified device\n",
            "             product: Virtio SCSI\n",
            "             vendor: Red Hat, Inc.\n",
            "             physical id: 3\n",
            "             bus info: pci@0000:00:03.0\n",
            "             version: 00\n",
            "             width: 32 bits\n",
            "             clock: 33MHz\n",
            "             capabilities: msix bus_master cap_list\n",
            "             configuration: driver=virtio-pci latency=0\n",
            "             resources: irq:11 ioport:c040(size=64) memory:c0001000-c000107f\n",
            "           *-virtio0 UNCLAIMED\n",
            "                description: Virtual I/O device\n",
            "                physical id: 0\n",
            "                bus info: virtio@0\n",
            "                configuration: driver=virtio_scsi\n",
            "        *-network\n",
            "             description: Ethernet controller\n",
            "             product: Virtio network device\n",
            "             vendor: Red Hat, Inc.\n",
            "             physical id: 4\n",
            "             bus info: pci@0000:00:04.0\n",
            "             version: 00\n",
            "             width: 32 bits\n",
            "             clock: 33MHz\n",
            "             capabilities: msix bus_master cap_list\n",
            "             configuration: driver=virtio-pci latency=0\n",
            "             resources: irq:10 ioport:c000(size=64) memory:c0000000-c000007f\n",
            "           *-virtio1 UNCLAIMED\n",
            "                description: Virtual I/O device\n",
            "                physical id: 0\n",
            "                bus info: virtio@1\n",
            "                configuration: driver=virtio_net\n",
            "        *-generic:1\n",
            "             description: Unclassified device\n",
            "             product: Virtio memory balloon\n",
            "             vendor: Red Hat, Inc.\n",
            "             physical id: 5\n",
            "             bus info: pci@0000:00:05.0\n",
            "             version: 00\n",
            "             width: 32 bits\n",
            "             clock: 33MHz\n",
            "             capabilities: bus_master\n",
            "             configuration: driver=virtio-pci latency=0\n",
            "             resources: irq:10 ioport:c0a0(size=32)\n",
            "           *-virtio2 UNCLAIMED\n",
            "                description: Virtual I/O device\n",
            "                physical id: 0\n",
            "                bus info: virtio@2\n",
            "                configuration: driver=virtio_balloon\n",
            "        *-generic:2\n",
            "             description: Unclassified device\n",
            "             product: Virtio RNG\n",
            "             vendor: Red Hat, Inc.\n",
            "             physical id: 6\n",
            "             bus info: pci@0000:00:06.0\n",
            "             version: 00\n",
            "             width: 32 bits\n",
            "             clock: 33MHz\n",
            "             capabilities: msix bus_master cap_list\n",
            "             configuration: driver=virtio-pci latency=0\n",
            "             resources: irq:11 ioport:c080(size=32) memory:c0002000-c000203f\n",
            "           *-virtio3 UNCLAIMED\n",
            "                description: Virtual I/O device\n",
            "                physical id: 0\n",
            "                bus info: virtio@3\n",
            "                configuration: driver=virtio_rng\n",
            "  *-input:0\n",
            "       product: Power Button\n",
            "       physical id: 1\n",
            "       logical name: input0\n",
            "       logical name: event0\n",
            "       capabilities: platform\n",
            "  *-input:1\n",
            "       product: Sleep Button\n",
            "       physical id: 2\n",
            "       logical name: input1\n",
            "       logical name: event1\n",
            "       capabilities: platform\n",
            "  *-input:2\n",
            "       product: AT Translated Set 2 keyboard\n",
            "       physical id: 3\n",
            "       logical name: input2\n",
            "       logical name: event2\n",
            "       capabilities: i8042\n"
          ]
        }
      ]
    },
    {
      "cell_type": "code",
      "source": [
        "# Install Ollama\n",
        "!curl -fsSL https://ollama.com/install.sh | sh"
      ],
      "metadata": {
        "colab": {
          "base_uri": "https://localhost:8080/"
        },
        "id": "wmGv2fF9UGHS",
        "outputId": "3e92ff5b-90dd-43b5-e329-e52d2a7dc5fe"
      },
      "execution_count": 30,
      "outputs": [
        {
          "output_type": "stream",
          "name": "stdout",
          "text": [
            ">>> Cleaning up old version at /usr/local/lib/ollama\n",
            ">>> Installing ollama to /usr/local\n",
            ">>> Downloading Linux amd64 bundle\n",
            "############################################################################################# 100.0%\n",
            ">>> Adding ollama user to video group...\n",
            ">>> Adding current user to ollama group...\n",
            ">>> Creating ollama systemd service...\n",
            "\u001b[1m\u001b[31mWARNING:\u001b[m systemd is not running\n",
            ">>> The Ollama API is now available at 127.0.0.1:11434.\n",
            ">>> Install complete. Run \"ollama\" from the command line.\n",
            "\u001b[1m\u001b[31mWARNING:\u001b[m No NVIDIA/AMD GPU detected. Ollama will run in CPU-only mode.\n",
            ">>> The Ollama API is now available at 127.0.0.1:11434.\n",
            ">>> Install complete. Run \"ollama\" from the command line.\n"
          ]
        }
      ]
    },
    {
      "cell_type": "code",
      "source": [
        "!ollama --version"
      ],
      "metadata": {
        "colab": {
          "base_uri": "https://localhost:8080/"
        },
        "id": "A7FtyrnIiHsP",
        "outputId": "8608060a-ccc1-4cd2-efdb-4899b47448ed"
      },
      "execution_count": 32,
      "outputs": [
        {
          "output_type": "stream",
          "name": "stdout",
          "text": [
            "ollama version is 0.6.2\n"
          ]
        }
      ]
    },
    {
      "cell_type": "code",
      "source": [
        "# Run ollama serve in the backend, even if the above error is present, this will connect with GPU\n",
        "\n",
        "import subprocess\n",
        "\n",
        "# Run ollama serve in the background\n",
        "process = subprocess.Popen(['ollama', 'serve'], stdout=subprocess.PIPE, stderr=subprocess.PIPE)\n",
        "\n",
        "# Optionally, print the process ID\n",
        "print(f\"Ollama serve process ID: {process.pid}\")"
      ],
      "metadata": {
        "colab": {
          "base_uri": "https://localhost:8080/"
        },
        "id": "9mZy_-qkUNNd",
        "outputId": "6e47a6d2-281d-46ff-aeae-768947338a04"
      },
      "execution_count": 33,
      "outputs": [
        {
          "output_type": "stream",
          "name": "stdout",
          "text": [
            "Ollama serve process ID: 16470\n"
          ]
        }
      ]
    },
    {
      "cell_type": "code",
      "source": [
        "# Pull llama 1b parameter Model for testing\n",
        "!ollama pull deepseek-r1:8b"
      ],
      "metadata": {
        "colab": {
          "base_uri": "https://localhost:8080/"
        },
        "id": "8PBiT_nZUd6N",
        "outputId": "b7eb47ab-de2b-4d3e-e64f-46489080e0c6"
      },
      "execution_count": 34,
      "outputs": [
        {
          "output_type": "stream",
          "name": "stdout",
          "text": [
            "\u001b[?2026h\u001b[?25l\u001b[1Gpulling manifest ⠋ \u001b[K\u001b[?25h\u001b[?2026l\u001b[?2026h\u001b[?25l\u001b[1Gpulling manifest ⠙ \u001b[K\u001b[?25h\u001b[?2026l\u001b[?2026h\u001b[?25l\u001b[1Gpulling manifest \u001b[K\n",
            "pulling 6340dc3229b0... 100% ▕▏ 4.9 GB                         \u001b[K\n",
            "pulling 369ca498f347... 100% ▕▏  387 B                         \u001b[K\n",
            "pulling 6e4c38e1172f... 100% ▕▏ 1.1 KB                         \u001b[K\n",
            "pulling f4d24e9138dd... 100% ▕▏  148 B                         \u001b[K\n",
            "pulling 0cb05c6e4e02... 100% ▕▏  487 B                         \u001b[K\n",
            "verifying sha256 digest \u001b[K\n",
            "writing manifest \u001b[K\n",
            "success \u001b[K\u001b[?25h\u001b[?2026l\n"
          ]
        }
      ]
    },
    {
      "cell_type": "code",
      "source": [
        "# Sample program which runs and outputs in a readable format\n",
        "\n",
        "import requests\n",
        "import json\n",
        "\n",
        "def query_ollama(prompt, model=\"deepseek-r1:8b\"):\n",
        "    url = \"http://localhost:11434/api/generate\"\n",
        "    payload = {\n",
        "        \"model\": model,\n",
        "        \"prompt\": prompt,\n",
        "        \"stream\": False\n",
        "    }\n",
        "\n",
        "    response = requests.post(url, json=payload)\n",
        "\n",
        "    if response.status_code == 200:\n",
        "        return response.json().get(\"response\", \"Error: No response from model\")\n",
        "    else:\n",
        "        return f\"Error: {response.status_code} - {response.text}\"\n",
        "\n",
        "# Sample customer-agent conversation\n",
        "customer_query = \"Hi, I received the wrong item in my order. How can I get a replacement?\"\n",
        "agent_prompt = f\"You are an e-commerce customer support agent. Respond to this customer query professionally:\\n{customer_query}\"\n",
        "\n",
        "agent_response = query_ollama(agent_prompt)\n",
        "\n",
        "print(\"Customer:\", customer_query)\n",
        "print(\"Agent:\", agent_response)\n",
        "\n"
      ],
      "metadata": {
        "colab": {
          "base_uri": "https://localhost:8080/"
        },
        "id": "uVDfkf3PU1JM",
        "outputId": "8f643555-024f-4b87-fe57-c35bafc9c94e"
      },
      "execution_count": 39,
      "outputs": [
        {
          "output_type": "stream",
          "name": "stdout",
          "text": [
            "Customer: Hi, I received the wrong item in my order. How can I get a replacement?\n",
            "Agent: <think>\n",
            "Okay, so the user sent me a message saying they received the wrong item and want to know how to get a replacement. Hmm, first things first, I should acknowledge their issue quickly because that shows I'm paying attention and taking them seriously.\n",
            "\n",
            "I need to make sure my response is clear and helpful. They probably feel frustrated or anxious about getting the wrong product, so I should keep the tone calm and professional. Let me outline what they might need: information on how to return the item, get a replacement, maybe a refund option if replacement isn't possible.\n",
            "\n",
            "I should guide them through the process step by step without being too robotic. Maybe suggest reaching out via phone or email with their order details. It's important to encourage them to provide specific info so we can help faster.\n",
            "\n",
            "Also, I should mention that someone will get back to them soon, which reassures them that their issue is taken care of. I need to make sure there are no typos and the message flows naturally.\n",
            "</think>\n",
            "\n",
            "Hi [Customer's Name],\n",
            "\n",
            "Thank you for bringing this to our attention. We’re sorry for the inconvenience caused by the wrong item being delivered.\n",
            "\n",
            "To resolve this, please:\n",
            "\n",
            "1. **Contact Us:** Reach out via phone or email with your order details (order number, delivery confirmation, and the incorrect item received).\n",
            "\n",
            "2. **Describe the Issue:** Clearly explain that you’ve received the wrong product and provide any relevant information to help us identify the correct one for replacement.\n",
            "\n",
            "3. ** Await Response:** Someone from our team will review your request and get back to you shortly with instructions on how to proceed.\n",
            "\n",
            "We aim to make this as smooth as possible, and we appreciate your patience while we work on it.\n",
            "\n",
            "Looking forward to helping you resolve this issue.\n",
            "\n",
            "Best regards,\n",
            "\n",
            "[Your Name]  \n",
            "Customer Support Team\n"
          ]
        }
      ]
    },
    {
      "cell_type": "code",
      "source": [
        "# Generate conversation summary and insights\n",
        "summary_prompt = (\n",
        "    \"Here is a conversation between a customer and a support agent. \"\n",
        "    \"Please provide a concise summary of the discussion and extract key insights about the customer's issue and concerns.\\n\\n\"\n",
        "    f\"Customer: {customer_query}\\n\"\n",
        "    f\"Agent: {agent_response}\\n\"\n",
        ")\n",
        "\n",
        "summary_response = query_ollama(summary_prompt)\n",
        "\n",
        "print(\"Full API Response:\", summary_response)\n",
        "\n",
        "print(\"\\n\\nCustomer:\", customer_query)\n",
        "print(\"\\n\\nAgent:\", agent_response)\n",
        "print(\"\\n\\nSummary and Insights:\", summary_response)"
      ],
      "metadata": {
        "colab": {
          "base_uri": "https://localhost:8080/"
        },
        "id": "MHBOowKXtshC",
        "outputId": "e4eb6e0b-4a82-41f8-c0ed-d30872b85c1d"
      },
      "execution_count": 45,
      "outputs": [
        {
          "output_type": "stream",
          "name": "stdout",
          "text": [
            "Full API Response: \n",
            "\n",
            "**Customer Support Response:**\n",
            "\n",
            "Dear [Customer's Name],\n",
            "\n",
            "Thank you for informing us about the incorrect item received in your order. We apologize for the inconvenience and are here to help you resolve it promptly.\n",
            "\n",
            "Please follow these steps:\n",
            "\n",
            "1. **Reach Out:** Contact our support team via phone or email with your order number, delivery confirmation details, and information about the incorrect item.\n",
            "2. **Provide Details:** Clearly describe the issue and include any relevant information that can assist us in identifying the correct product for replacement.\n",
            "3. **Await Assistance:** A member of our team will review your request and respond within a short time with further instructions.\n",
            "\n",
            "We aim to ensure this process is as smooth as possible and appreciate your patience while we work on it.\n",
            "\n",
            "Looking forward to assisting you.\n",
            "\n",
            "Best regards,  \n",
            "[Your Name]  \n",
            "Customer Support Team\n",
            "\n",
            "\n",
            "Customer: Hi, I received the wrong item in my order. How can I get a replacement?\n",
            "\n",
            "\n",
            "Agent: <think>\n",
            "Okay, so the user sent me a message saying they received the wrong item and want to know how to get a replacement. Hmm, first things first, I should acknowledge their issue quickly because that shows I'm paying attention and taking them seriously.\n",
            "\n",
            "I need to make sure my response is clear and helpful. They probably feel frustrated or anxious about getting the wrong product, so I should keep the tone calm and professional. Let me outline what they might need: information on how to return the item, get a replacement, maybe a refund option if replacement isn't possible.\n",
            "\n",
            "I should guide them through the process step by step without being too robotic. Maybe suggest reaching out via phone or email with their order details. It's important to encourage them to provide specific info so we can help faster.\n",
            "\n",
            "Also, I should mention that someone will get back to them soon, which reassures them that their issue is taken care of. I need to make sure there are no typos and the message flows naturally.\n",
            "</think>\n",
            "\n",
            "Hi [Customer's Name],\n",
            "\n",
            "Thank you for bringing this to our attention. We’re sorry for the inconvenience caused by the wrong item being delivered.\n",
            "\n",
            "To resolve this, please:\n",
            "\n",
            "1. **Contact Us:** Reach out via phone or email with your order details (order number, delivery confirmation, and the incorrect item received).\n",
            "\n",
            "2. **Describe the Issue:** Clearly explain that you’ve received the wrong product and provide any relevant information to help us identify the correct one for replacement.\n",
            "\n",
            "3. ** Await Response:** Someone from our team will review your request and get back to you shortly with instructions on how to proceed.\n",
            "\n",
            "We aim to make this as smooth as possible, and we appreciate your patience while we work on it.\n",
            "\n",
            "Looking forward to helping you resolve this issue.\n",
            "\n",
            "Best regards,\n",
            "\n",
            "[Your Name]  \n",
            "Customer Support Team\n",
            "\n",
            "\n",
            "Summary and Insights: \n",
            "\n",
            "**Customer Support Response:**\n",
            "\n",
            "Dear [Customer's Name],\n",
            "\n",
            "Thank you for informing us about the incorrect item received in your order. We apologize for the inconvenience and are here to help you resolve it promptly.\n",
            "\n",
            "Please follow these steps:\n",
            "\n",
            "1. **Reach Out:** Contact our support team via phone or email with your order number, delivery confirmation details, and information about the incorrect item.\n",
            "2. **Provide Details:** Clearly describe the issue and include any relevant information that can assist us in identifying the correct product for replacement.\n",
            "3. **Await Assistance:** A member of our team will review your request and respond within a short time with further instructions.\n",
            "\n",
            "We aim to ensure this process is as smooth as possible and appreciate your patience while we work on it.\n",
            "\n",
            "Looking forward to assisting you.\n",
            "\n",
            "Best regards,  \n",
            "[Your Name]  \n",
            "Customer Support Team\n"
          ]
        }
      ]
    }
  ]
}